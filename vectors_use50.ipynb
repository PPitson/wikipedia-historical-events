{
 "cells": [
  {
   "cell_type": "code",
   "execution_count": 1,
   "metadata": {},
   "outputs": [],
   "source": [
    "import pickle\n",
    "import numpy as np\n",
    "from gensim.models import Doc2Vec\n",
    "\n",
    "doc_model  = Doc2Vec.load('data/paragraphs50.data')\n"
   ]
  },
  {
   "cell_type": "code",
   "execution_count": 2,
   "metadata": {},
   "outputs": [],
   "source": [
    "article_id = doc_model.docvecs.doctags['627'].offset"
   ]
  },
  {
   "cell_type": "code",
   "execution_count": 3,
   "metadata": {},
   "outputs": [
    {
     "data": {
      "text/plain": [
       "array([-0.14194332, -0.05787234, -0.67718023, -0.19456373, -0.39149535,\n",
       "        0.19375499, -0.31735912,  0.4559985 ,  0.34485084, -0.09151845,\n",
       "       -0.16255417, -0.21269818, -0.32897064,  0.12143057,  0.23663601,\n",
       "        0.6063909 , -0.1322824 , -0.00539777,  0.12109551,  0.67775494,\n",
       "        0.3197373 , -0.04675657,  0.27998886,  0.05833791, -0.18698904,\n",
       "        0.51062894,  0.23875506, -0.23599018,  0.2394302 , -0.04523493,\n",
       "        0.5921851 ,  0.60521346, -0.06933755, -0.13199581, -0.11654747,\n",
       "        0.61217886,  0.8084688 ,  0.1425519 , -0.05617465,  0.5234779 ,\n",
       "        0.04735915,  0.21024598, -0.18967785, -0.2640598 , -0.02155719,\n",
       "       -0.01211257, -0.5812625 , -0.01531921, -0.18486325,  0.16985871],\n",
       "      dtype=float32)"
      ]
     },
     "execution_count": 3,
     "metadata": {},
     "output_type": "execute_result"
    }
   ],
   "source": [
    "doc_model[article_id]"
   ]
  },
  {
   "cell_type": "markdown",
   "metadata": {},
   "source": [
    " get article url by pageid: https://en.wikipedia.org/?curid=627"
   ]
  }
 ],
 "metadata": {
  "kernelspec": {
   "display_name": "Python 3",
   "language": "python",
   "name": "python3"
  },
  "language_info": {
   "codemirror_mode": {
    "name": "ipython",
    "version": 3
   },
   "file_extension": ".py",
   "mimetype": "text/x-python",
   "name": "python",
   "nbconvert_exporter": "python",
   "pygments_lexer": "ipython3",
   "version": "3.6.3"
  }
 },
 "nbformat": 4,
 "nbformat_minor": 2
}
