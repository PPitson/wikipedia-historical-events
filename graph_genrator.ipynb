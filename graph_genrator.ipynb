{
 "cells": [
  {
   "cell_type": "code",
   "execution_count": 1,
   "metadata": {
    "collapsed": false
   },
   "outputs": [
    {
     "name": "stderr",
     "output_type": "stream",
     "text": [
      "C:\\ProgramData\\Anaconda3\\lib\\site-packages\\gensim\\utils.py:1197: UserWarning: detected Windows; aliasing chunkize to chunkize_serial\n",
      "  warnings.warn(\"detected Windows; aliasing chunkize to chunkize_serial\")\n"
     ]
    }
   ],
   "source": [
    "import pandas\n",
    "import pickle\n",
    "import numpy as np\n",
    "from sklearn.preprocessing import normalize\n",
    "from sklearn.neighbors import kneighbors_graph as knng\n",
    "from scipy.sparse import load_npz\n",
    "with open('data/paragraphs.data','rb') as f :\n",
    "    doc_model = pickle.load(f ) \n",
    "with open('data/paragraphs.data.docvecs.vectors_docs.npy','rb') as f_arr :\n",
    "    doc_array = np.load(f_arr )"
   ]
  },
  {
   "cell_type": "code",
   "execution_count": 54,
   "metadata": {
    "collapsed": false
   },
   "outputs": [],
   "source": [
    "def get_all_doc(log=False):\n",
    "    with open(\"data/history_depth3.csv\", 'r', encoding='utf-8') as file:\n",
    "        csv_file = pandas.read_csv(file)\n",
    "    i = 0\n",
    "    to_list = []\n",
    "    for name, pageid in zip(csv_file[\"title\"], csv_file[\"pageid\"]):\n",
    "        try:\n",
    "            yield doc_model.docvecs.doctags[str(pageid)].offset, name\n",
    "        except:\n",
    "            i += 1\n",
    "            if log:\n",
    "                to_list.append(str(x))\n",
    "    print(i)\n",
    "    if log:\n",
    "        print(to_list)\n",
    "    "
   ]
  },
  {
   "cell_type": "code",
   "execution_count": 55,
   "metadata": {
    "collapsed": false
   },
   "outputs": [],
   "source": [
    "result = load_npz(\"graph_distance.npz\")"
   ]
  },
  {
   "cell_type": "code",
   "execution_count": 56,
   "metadata": {
    "collapsed": false
   },
   "outputs": [],
   "source": [
    "import networkx as nx"
   ]
  },
  {
   "cell_type": "code",
   "execution_count": 57,
   "metadata": {
    "collapsed": false
   },
   "outputs": [],
   "source": [
    "G = nx.from_scipy_sparse_matrix(result, create_using=nx.DiGraph())"
   ]
  },
  {
   "cell_type": "code",
   "execution_count": 58,
   "metadata": {
    "collapsed": false
   },
   "outputs": [],
   "source": [
    "def save_as_gexf(graph):\n",
    "    labels = {k: v for k, v in get_all_doc()}\n",
    "    labels_rev = {v: k for k, v in labels.items()}\n",
    "    H = nx.relabel_nodes(graph, labels)\n",
    "    nx.set_node_attributes(H,'id', labels_rev)\n",
    "    nx.write_gexf(H, \"graph.gexf\")"
   ]
  },
  {
   "cell_type": "code",
   "execution_count": 75,
   "metadata": {
    "collapsed": false
   },
   "outputs": [],
   "source": [
    "def get_to_csv(graph, log=False):\n",
    "    i = 0\n",
    "    to_list = []\n",
    "    for key, value in get_all_doc():\n",
    "        try:\n",
    "            yield key, value, graph.in_degree(key)\n",
    "        except:\n",
    "            i += 1\n",
    "            if log:\n",
    "                to_list.append(str(x))\n",
    "    print(i)\n",
    "    if log:\n",
    "        print(to_list)\n",
    "def save_as_csv(graph):\n",
    "    nx.write_edgelist(graph,'edges.csv', delimiter=',', data=[\"weight\"])\n",
    "    pandas.DataFrame(get_to_csv(graph),columns=['id', 'label', 'in_degree']).to_csv('nodes.csv', sep=',', encoding='utf-8', index=False)"
   ]
  },
  {
   "cell_type": "code",
   "execution_count": 76,
   "metadata": {
    "collapsed": false
   },
   "outputs": [
    {
     "name": "stdout",
     "output_type": "stream",
     "text": [
      "15993\n",
      "0\n"
     ]
    }
   ],
   "source": [
    "save_as_csv(G)\n",
    "save_as_gexf(G) # for gephi"
   ]
  },
  {
   "cell_type": "code",
   "execution_count": null,
   "metadata": {
    "collapsed": true
   },
   "outputs": [],
   "source": []
  }
 ],
 "metadata": {
  "kernelspec": {
   "display_name": "Python 3",
   "language": "python",
   "name": "python3"
  },
  "language_info": {
   "codemirror_mode": {
    "name": "ipython",
    "version": 3
   },
   "file_extension": ".py",
   "mimetype": "text/x-python",
   "name": "python",
   "nbconvert_exporter": "python",
   "pygments_lexer": "ipython3",
   "version": "3.6.0"
  }
 },
 "nbformat": 4,
 "nbformat_minor": 2
}
