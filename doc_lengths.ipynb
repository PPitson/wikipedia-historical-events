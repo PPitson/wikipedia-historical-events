{
 "cells": [
  {
   "cell_type": "code",
   "execution_count": null,
   "metadata": {},
   "outputs": [],
   "source": [
    "import pickle\n",
    "from typing import List\n",
    "from collections import namedtuple\n",
    "import nltk\n",
    "from gensim.models import Doc2Vec \n",
    "from gensim.models.doc2vec import TaggedDocument \n",
    "from pages_generator import Page\n",
    "from multiprocessing import Pool\n",
    "import string\n",
    "import re \n",
    "from itertools import chain, islice\n",
    "import pickle\n",
    "from gensim.models import Doc2Vec "
   ]
  },
  {
   "cell_type": "code",
   "execution_count": 1,
   "metadata": {},
   "outputs": [],
   "source": [
    "stopwords = set(nltk.corpus.stopwords.words('english'))\n",
    "quotes =set([\"``\",\"''\"])\n",
    "forbidden  = stopwords.union( quotes).union(set(string.punctuation))\n",
    "\n",
    "def clean_text(article):\n",
    "    words = filter(lambda x: x not in forbidden, nltk.word_tokenize(article.text.lower()))\n",
    "    words = list(map(lambda x: re.sub(\"\\d+(th|nd|st)?\",\"<NUMBER>\",x),words))\n",
    "    return TaggedDocument(words= words,tags = [ article.pageid ])\n",
    "\n",
    "with open('data/pages_with_id.data', 'rb') as file:\n",
    "    pages: List[Page] = pickle.load(file)\n",
    "\n",
    "pages = filter(lambda a: a.pageid.isnumeric(),pages)\n",
    "with Pool(3) as p:\n",
    "    cleaned = p.map(clean_text,pages)\n",
    "documents =  list(cleaned)\n",
    "\n",
    "lengths = map(lambda d: (d.tags[0], len(d.words)),documents)\n",
    "doc_id_len = list(lengths)"
   ]
  },
  {
   "cell_type": "code",
   "execution_count": 12,
   "metadata": {},
   "outputs": [],
   "source": [
    "with open('data/doc_length.data', 'wb') as f:\n",
    "    pickle.dump(doc_id_len,f, pickle.HIGHEST_PROTOCOL)"
   ]
  },
  {
   "cell_type": "code",
   "execution_count": 14,
   "metadata": {},
   "outputs": [],
   "source": [
    "with open('data/doc_length.data', 'rb') as f:\n",
    "    art_lens = pickle.load(f)"
   ]
  },
  {
   "cell_type": "code",
   "execution_count": 15,
   "metadata": {},
   "outputs": [
    {
     "data": {
      "text/plain": [
       "('307', 9935)"
      ]
     },
     "execution_count": 15,
     "metadata": {},
     "output_type": "execute_result"
    }
   ],
   "source": [
    "art_lens[0]"
   ]
  }
 ],
 "metadata": {
  "kernelspec": {
   "display_name": "Python 3",
   "language": "python",
   "name": "python3"
  },
  "language_info": {
   "codemirror_mode": {
    "name": "ipython",
    "version": 3
   },
   "file_extension": ".py",
   "mimetype": "text/x-python",
   "name": "python",
   "nbconvert_exporter": "python",
   "pygments_lexer": "ipython3",
   "version": "3.6.3"
  }
 },
 "nbformat": 4,
 "nbformat_minor": 2
}
